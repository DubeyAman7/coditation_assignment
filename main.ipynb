{
 "cells": [
  {
   "cell_type": "code",
   "execution_count": 12,
   "metadata": {},
   "outputs": [],
   "source": [
    "class Game:\n",
    "    def __init__(self, state_dict):\n",
    "        self.state_dict = state_dict\n",
    "        \n",
    "    def count_neighbours(self, pos): #Counts the live neighbours of any position\n",
    "        \n",
    "        x, y = pos\n",
    "        counter = 0 # It is used to count the numbers of neighbours any position has\n",
    "        x_coordinate = [x-1, x, x+1]  # It keeps all the possible x coordinate of neighbours\n",
    "        y_coordinate = [y-1, y, y+1]  # It keeps all the possible y coordinate of neighbours\n",
    "        for i in x_coordinate:\n",
    "            for j in y_coordinate:\n",
    "                if (i, j) != (x, y) and (i,j) in self.state_dict:\n",
    "                    if self.state_dict[(i, j)] == 1:\n",
    "                        counter += 1\n",
    "        return counter\n",
    "    \n",
    "    def life_death(self): #Counts the state of every position that is present in state_dict\n",
    "        from collections import defaultdict\n",
    "        temp = defaultdict(lambda:0) #temporary dictionary which will be later used to copy it's value in state_dict\n",
    "        for pos in self.state_dict:\n",
    "            val = self.count_neighbours(pos)\n",
    "            if val == 3: # If live  neighbours are equal to 3 then even the dead cell can also come to life\n",
    "                temp[pos] = 1\n",
    "            elif val == 2: #If the live neighbours are equal to 2 then only live cell can keep being live\n",
    "                if self.state_dict[pos] == 1:\n",
    "                    temp[pos] = 1\n",
    "                else:\n",
    "                    temp[pos] = 0\n",
    "            else:\n",
    "                temp[pos] = 0\n",
    "        self.state_dict.update(temp) #Copying the state of every cell from temporary dictionary to state_dict\n",
    "        return self.state_dict\n",
    "    \n",
    "    def search_cell(self, pos): # Searches and tells about the state of the position entered by the user.\n",
    "        if pos in self.state_dict:\n",
    "            if self.state_dict:\n",
    "                return \"Live\"\n",
    "            return \"Dead\"\n",
    "        return \"Dead\"\n",
    "            \n",
    "    "
   ]
  },
  {
   "cell_type": "code",
   "execution_count": 13,
   "metadata": {},
   "outputs": [
    {
     "name": "stdout",
     "output_type": "stream",
     "text": [
      "Would you like to stop (y--> yes, n--> no): n\n",
      "Enter x and y coordinate (If you would like to stop enter n)\n",
      "1 2\n",
      "Enter whether it is live or dead (live --> 1, dead --> 0)\n",
      "1\n",
      "Enter x and y coordinate (If you would like to stop enter n)\n",
      "1 1\n",
      "Enter whether it is live or dead (live --> 1, dead --> 0)\n",
      "1\n",
      "Enter x and y coordinate (If you would like to stop enter n)\n",
      "0 1\n",
      "Enter whether it is live or dead (live --> 1, dead --> 0)\n",
      "1\n",
      "Enter x and y coordinate (If you would like to stop enter n)\n",
      "4 5\n",
      "Enter whether it is live or dead (live --> 1, dead --> 0)\n",
      "1\n",
      "Enter x and y coordinate (If you would like to stop enter n)\n",
      "5 4\n",
      "Enter whether it is live or dead (live --> 1, dead --> 0)\n",
      "1\n",
      "Enter x and y coordinate (If you would like to stop enter n)\n",
      "-1 5\n",
      "Enter whether it is live or dead (live --> 1, dead --> 0)\n",
      "1\n",
      "Enter x and y coordinate (If you would like to stop enter n)\n",
      "-2 5\n",
      "Enter whether it is live or dead (live --> 1, dead --> 0)\n",
      "1\n",
      "Enter x and y coordinate (If you would like to stop enter n)\n",
      "n\n",
      "Would you like to stop (y--> yes, n--> no): y\n"
     ]
    }
   ],
   "source": [
    "from collections import defaultdict\n",
    "import random\n",
    "i = 'n'\n",
    "state_dict = defaultdict(lambda:0)\n",
    "for i in range(500):\n",
    "    x, y = random.randint(-1000, 1000), random.randint(-1000,1000)\n",
    "    state_dict[(x, y)] = random.randint(0,1)\n",
    "game = Game(state_dict)\n",
    "\n",
    "while(i!= 'y'):\n",
    "    i = input(\"Would you like to stop (y--> yes, n--> no): \")\n",
    "    if i == 'y':\n",
    "        break\n",
    "    pos = 'y'\n",
    "    while(pos != 'n'):\n",
    "        pos = input('Enter x and y coordinate (If you would like to stop enter n)\\n')\n",
    "        if pos == 'n':\n",
    "            break\n",
    "        status = input('Enter whether it is live or dead (live --> 1, dead --> 0)\\n')\n",
    "        pos = tuple(map(int, pos.split()))\n",
    "        state_dict[pos] = int(status)\n",
    "    game = Game(state_dict)"
   ]
  },
  {
   "cell_type": "code",
   "execution_count": 26,
   "metadata": {},
   "outputs": [
    {
     "data": {
      "text/plain": [
       "'Live'"
      ]
     },
     "execution_count": 26,
     "metadata": {},
     "output_type": "execute_result"
    }
   ],
   "source": [
    "game.search_cell((4,5))"
   ]
  },
  {
   "cell_type": "code",
   "execution_count": 25,
   "metadata": {},
   "outputs": [
    {
     "name": "stdout",
     "output_type": "stream",
     "text": [
      "Automatic pdb calling has been turned ON\n"
     ]
    }
   ],
   "source": [
    "%pdb"
   ]
  },
  {
   "cell_type": "code",
   "execution_count": 18,
   "metadata": {},
   "outputs": [],
   "source": [
    "t_dict[2]=3"
   ]
  },
  {
   "cell_type": "code",
   "execution_count": 28,
   "metadata": {},
   "outputs": [
    {
     "ename": "RuntimeError",
     "evalue": "dictionary changed size during iteration",
     "output_type": "error",
     "traceback": [
      "\u001b[1;31m---------------------------------------------------------------------------\u001b[0m",
      "\u001b[1;31mRuntimeError\u001b[0m                              Traceback (most recent call last)",
      "\u001b[1;32m<ipython-input-28-c29764bee667>\u001b[0m in \u001b[0;36m<module>\u001b[1;34m\u001b[0m\n\u001b[1;32m----> 1\u001b[1;33m \u001b[1;32mfor\u001b[0m \u001b[0mkey\u001b[0m \u001b[1;32min\u001b[0m \u001b[0mt_dict\u001b[0m\u001b[1;33m:\u001b[0m\u001b[1;33m\u001b[0m\u001b[1;33m\u001b[0m\u001b[0m\n\u001b[0m\u001b[0;32m      2\u001b[0m     \u001b[1;32mif\u001b[0m \u001b[0mt_dict\u001b[0m\u001b[1;33m[\u001b[0m\u001b[0mkey\u001b[0m\u001b[1;33m-\u001b[0m\u001b[1;36m1\u001b[0m\u001b[1;33m]\u001b[0m\u001b[1;33m==\u001b[0m\u001b[1;36m1\u001b[0m\u001b[1;33m:\u001b[0m\u001b[1;33m\u001b[0m\u001b[1;33m\u001b[0m\u001b[0m\n\u001b[0;32m      3\u001b[0m         \u001b[0mprint\u001b[0m\u001b[1;33m(\u001b[0m\u001b[0mkey\u001b[0m\u001b[1;33m)\u001b[0m\u001b[1;33m\u001b[0m\u001b[1;33m\u001b[0m\u001b[0m\n",
      "\u001b[1;31mRuntimeError\u001b[0m: dictionary changed size during iteration"
     ]
    },
    {
     "name": "stdout",
     "output_type": "stream",
     "text": [
      "> \u001b[1;32m<ipython-input-28-c29764bee667>\u001b[0m(1)\u001b[0;36m<module>\u001b[1;34m()\u001b[0m\n",
      "\u001b[1;32m----> 1 \u001b[1;33m\u001b[1;32mfor\u001b[0m \u001b[0mkey\u001b[0m \u001b[1;32min\u001b[0m \u001b[0mt_dict\u001b[0m\u001b[1;33m:\u001b[0m\u001b[1;33m\u001b[0m\u001b[1;33m\u001b[0m\u001b[0m\n",
      "\u001b[0m\u001b[1;32m      2 \u001b[1;33m    \u001b[1;32mif\u001b[0m \u001b[0mt_dict\u001b[0m\u001b[1;33m[\u001b[0m\u001b[0mkey\u001b[0m\u001b[1;33m-\u001b[0m\u001b[1;36m1\u001b[0m\u001b[1;33m]\u001b[0m\u001b[1;33m==\u001b[0m\u001b[1;36m1\u001b[0m\u001b[1;33m:\u001b[0m\u001b[1;33m\u001b[0m\u001b[1;33m\u001b[0m\u001b[0m\n",
      "\u001b[0m\u001b[1;32m      3 \u001b[1;33m        \u001b[0mprint\u001b[0m\u001b[1;33m(\u001b[0m\u001b[0mkey\u001b[0m\u001b[1;33m)\u001b[0m\u001b[1;33m\u001b[0m\u001b[1;33m\u001b[0m\u001b[0m\n",
      "\u001b[0m\n",
      "ipdb> q\n"
     ]
    }
   ],
   "source": [
    "for key in t_dict:\n",
    "    if t_dict[key-1]==1:\n",
    "        print(key)"
   ]
  },
  {
   "cell_type": "code",
   "execution_count": 27,
   "metadata": {},
   "outputs": [
    {
     "data": {
      "text/plain": [
       "defaultdict(<function __main__.<lambda>()>, {1: 2, 2: 3})"
      ]
     },
     "execution_count": 27,
     "metadata": {},
     "output_type": "execute_result"
    }
   ],
   "source": [
    "t_dict"
   ]
  },
  {
   "cell_type": "code",
   "execution_count": null,
   "metadata": {},
   "outputs": [],
   "source": []
  }
 ],
 "metadata": {
  "kernelspec": {
   "display_name": "Python 3",
   "language": "python",
   "name": "python3"
  },
  "language_info": {
   "codemirror_mode": {
    "name": "ipython",
    "version": 3
   },
   "file_extension": ".py",
   "mimetype": "text/x-python",
   "name": "python",
   "nbconvert_exporter": "python",
   "pygments_lexer": "ipython3",
   "version": "3.8.5"
  }
 },
 "nbformat": 4,
 "nbformat_minor": 4
}
